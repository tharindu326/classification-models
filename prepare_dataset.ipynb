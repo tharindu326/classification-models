{
 "cells": [
  {
   "cell_type": "code",
   "execution_count": 1,
   "id": "0e6ae8b9-306c-468c-ba2a-d6ad346ab67b",
   "metadata": {},
   "outputs": [
    {
     "name": "stdout",
     "output_type": "stream",
     "text": [
      "Collecting gdown\n",
      "  Downloading gdown-5.2.0-py3-none-any.whl.metadata (5.8 kB)\n",
      "Requirement already satisfied: beautifulsoup4 in /home/ec2-user/anaconda3/envs/pytorch_p310/lib/python3.10/site-packages (from gdown) (4.12.3)\n",
      "Requirement already satisfied: filelock in /home/ec2-user/anaconda3/envs/pytorch_p310/lib/python3.10/site-packages (from gdown) (3.16.1)\n",
      "Requirement already satisfied: requests[socks] in /home/ec2-user/anaconda3/envs/pytorch_p310/lib/python3.10/site-packages (from gdown) (2.32.3)\n",
      "Requirement already satisfied: tqdm in /home/ec2-user/anaconda3/envs/pytorch_p310/lib/python3.10/site-packages (from gdown) (4.67.0)\n",
      "Requirement already satisfied: soupsieve>1.2 in /home/ec2-user/anaconda3/envs/pytorch_p310/lib/python3.10/site-packages (from beautifulsoup4->gdown) (2.5)\n",
      "Requirement already satisfied: charset-normalizer<4,>=2 in /home/ec2-user/anaconda3/envs/pytorch_p310/lib/python3.10/site-packages (from requests[socks]->gdown) (3.4.0)\n",
      "Requirement already satisfied: idna<4,>=2.5 in /home/ec2-user/anaconda3/envs/pytorch_p310/lib/python3.10/site-packages (from requests[socks]->gdown) (3.10)\n",
      "Requirement already satisfied: urllib3<3,>=1.21.1 in /home/ec2-user/anaconda3/envs/pytorch_p310/lib/python3.10/site-packages (from requests[socks]->gdown) (2.2.3)\n",
      "Requirement already satisfied: certifi>=2017.4.17 in /home/ec2-user/anaconda3/envs/pytorch_p310/lib/python3.10/site-packages (from requests[socks]->gdown) (2024.8.30)\n",
      "Requirement already satisfied: PySocks!=1.5.7,>=1.5.6 in /home/ec2-user/anaconda3/envs/pytorch_p310/lib/python3.10/site-packages (from requests[socks]->gdown) (1.7.1)\n",
      "Downloading gdown-5.2.0-py3-none-any.whl (18 kB)\n",
      "Installing collected packages: gdown\n",
      "Successfully installed gdown-5.2.0\n"
     ]
    }
   ],
   "source": [
    "!pip3 install gdown"
   ]
  },
  {
   "cell_type": "code",
   "execution_count": 2,
   "id": "2c9d8e01-aa24-49d3-9c9f-0673ae1179a8",
   "metadata": {},
   "outputs": [
    {
     "name": "stdout",
     "output_type": "stream",
     "text": [
      "Downloading...\n",
      "From (original): https://drive.google.com/uc?id=1C5uhwtLxcmM-xBgHkQhBVxVLSS2ZxfeZ\n",
      "From (redirected): https://drive.google.com/uc?id=1C5uhwtLxcmM-xBgHkQhBVxVLSS2ZxfeZ&confirm=t&uuid=f1fe6a0c-0752-492d-9e22-11baec4ea015\n",
      "To: /home/ec2-user/SageMaker/TLDataset.zip\n",
      "100%|██████████████████████████████████████| 3.60G/3.60G [00:39<00:00, 90.5MB/s]\n"
     ]
    }
   ],
   "source": [
    "!gdown https://drive.google.com/uc?id=1C5uhwtLxcmM-xBgHkQhBVxVLSS2ZxfeZ"
   ]
  },
  {
   "cell_type": "code",
   "execution_count": 7,
   "id": "1cb8bdfc-6d0e-4f80-84a4-80ebf290be83",
   "metadata": {},
   "outputs": [
    {
     "name": "stdout",
     "output_type": "stream",
     "text": [
      "Extracting: 100%|██████████████████████| 26566/26566 [01:24<00:00, 313.33file/s]\n",
      "Extraction complete!\n"
     ]
    }
   ],
   "source": [
    "# Unzip the dataset\n",
    "!python unzip.py -i TLDataset.zip -o TLDataset"
   ]
  },
  {
   "cell_type": "code",
   "execution_count": 8,
   "id": "153c07a5-241c-4c46-bedb-249996f898dc",
   "metadata": {
    "scrolled": true
   },
   "outputs": [
    {
     "name": "stdout",
     "output_type": "stream",
     "text": [
      "CUDA Available: True\n",
      "GPU Name: NVIDIA A10G\n"
     ]
    }
   ],
   "source": [
    "# test GPU\n",
    "!python -c \"import torch; print('CUDA Available:', torch.cuda.is_available()); print('GPU Name:', torch.cuda.get_device_name(0) if torch.cuda.is_available() else 'No GPU')\""
   ]
  },
  {
   "cell_type": "code",
   "execution_count": 26,
   "id": "01484b2f-9d77-4fac-8da1-013083b6031b",
   "metadata": {},
   "outputs": [
    {
     "name": "stdout",
     "output_type": "stream",
     "text": [
      "3389\n"
     ]
    }
   ],
   "source": [
    "# count traindata: NO_CANCER\n",
    "!ls -ltr TLDataset/ALL/PKG-C-NMC2019/train/NO_CANCER/* | wc -l"
   ]
  },
  {
   "cell_type": "code",
   "execution_count": 27,
   "id": "a3f0c645-b9ca-4207-a8eb-b732a06e6886",
   "metadata": {},
   "outputs": [
    {
     "name": "stdout",
     "output_type": "stream",
     "text": [
      "7272\n"
     ]
    }
   ],
   "source": [
    "# count traindata: CANCER\n",
    "!ls -ltr TLDataset/ALL/PKG-C-NMC2019/train/CANCER/* | wc -l"
   ]
  },
  {
   "cell_type": "code",
   "execution_count": 31,
   "id": "a19bdb3e-f1ac-476f-bb10-22f0a1371433",
   "metadata": {},
   "outputs": [
    {
     "name": "stdout",
     "output_type": "stream",
     "text": [
      "Data splitting complete!\n"
     ]
    }
   ],
   "source": [
    "# split the dataset to validation\n",
    "!python split.py -i TLDataset/ALL/PKG-C-NMC2019/train -v TLDataset/ALL/PKG-C-NMC2019/val -r 0.12"
   ]
  },
  {
   "cell_type": "code",
   "execution_count": 36,
   "id": "ba18a0ca-56f1-487b-bf07-a3a667228cd1",
   "metadata": {},
   "outputs": [
    {
     "name": "stdout",
     "output_type": "stream",
     "text": [
      "406\n"
     ]
    }
   ],
   "source": [
    "# count validation data: NO_CANCER\n",
    "!ls -ltr TLDataset/ALL/PKG-C-NMC2019/val/NO_CANCER/* | wc -l"
   ]
  },
  {
   "cell_type": "code",
   "execution_count": 37,
   "id": "6f6f703b-8970-48f0-b4d9-832c478ea29a",
   "metadata": {},
   "outputs": [
    {
     "name": "stdout",
     "output_type": "stream",
     "text": [
      "872\n"
     ]
    }
   ],
   "source": [
    "# count validation data: CANCER\n",
    "!ls -ltr TLDataset/ALL/PKG-C-NMC2019/val/CANCER/* | wc -l"
   ]
  }
 ],
 "metadata": {
  "kernelspec": {
   "display_name": "conda_pytorch_p310",
   "language": "python",
   "name": "conda_pytorch_p310"
  },
  "language_info": {
   "codemirror_mode": {
    "name": "ipython",
    "version": 3
   },
   "file_extension": ".py",
   "mimetype": "text/x-python",
   "name": "python",
   "nbconvert_exporter": "python",
   "pygments_lexer": "ipython3",
   "version": "3.10.14"
  }
 },
 "nbformat": 4,
 "nbformat_minor": 5
}
